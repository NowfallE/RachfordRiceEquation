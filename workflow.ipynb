{
 "cells": [
  {
   "attachments": {},
   "cell_type": "markdown",
   "metadata": {},
   "source": [
    "# Using the Rachford Rice equation to find $\\beta_v$, $\\beta_l$, $\\overrightarrow{x_v}$, and $\\overrightarrow{x_l}$ from P, T and $\\overrightarrow{z}$, graph a ternary diagram and perform gas injections\n",
    "\n",
    "First, lets import some packages we will use "
   ]
  },
  {
   "cell_type": "code",
   "execution_count": 18,
   "metadata": {},
   "outputs": [],
   "source": [
    "import pandas as pd #to use our data table\n",
    "import numpy as np #for math operations and arrays\n",
    "import matplotlib.pyplot as plt #to plot the RR equation\n",
    "import plotly.express as px #to plot a ternary diagram\n",
    "import random as rn #for random compositions"
   ]
  },
  {
   "attachments": {},
   "cell_type": "markdown",
   "metadata": {},
   "source": [
    "Then, we can import a csv form of figure 6.6-1 from Sandler's Thermodynamics 5th Edition"
   ]
  },
  {
   "cell_type": "code",
   "execution_count": 19,
   "metadata": {},
   "outputs": [
    {
     "data": {
      "text/html": [
       "<div>\n",
       "<style scoped>\n",
       "    .dataframe tbody tr th:only-of-type {\n",
       "        vertical-align: middle;\n",
       "    }\n",
       "\n",
       "    .dataframe tbody tr th {\n",
       "        vertical-align: top;\n",
       "    }\n",
       "\n",
       "    .dataframe thead th {\n",
       "        text-align: right;\n",
       "    }\n",
       "</style>\n",
       "<table border=\"1\" class=\"dataframe\">\n",
       "  <thead>\n",
       "    <tr style=\"text-align: right;\">\n",
       "      <th></th>\n",
       "      <th>Substance</th>\n",
       "      <th>Symbol</th>\n",
       "      <th>MW</th>\n",
       "      <th>Tc</th>\n",
       "      <th>Pc</th>\n",
       "      <th>Vc</th>\n",
       "      <th>Zc</th>\n",
       "      <th>w</th>\n",
       "      <th>Tboil</th>\n",
       "    </tr>\n",
       "  </thead>\n",
       "  <tbody>\n",
       "    <tr>\n",
       "      <th>0</th>\n",
       "      <td>Acetylene</td>\n",
       "      <td>C2H2</td>\n",
       "      <td>26.038</td>\n",
       "      <td>308.3</td>\n",
       "      <td>6.140</td>\n",
       "      <td>0.1130</td>\n",
       "      <td>0.271</td>\n",
       "      <td>0.184</td>\n",
       "      <td>189.2</td>\n",
       "    </tr>\n",
       "    <tr>\n",
       "      <th>1</th>\n",
       "      <td>Ammonia</td>\n",
       "      <td>NH3</td>\n",
       "      <td>17.031</td>\n",
       "      <td>405.6</td>\n",
       "      <td>11.280</td>\n",
       "      <td>0.0724</td>\n",
       "      <td>0.242</td>\n",
       "      <td>0.250</td>\n",
       "      <td>239.7</td>\n",
       "    </tr>\n",
       "    <tr>\n",
       "      <th>2</th>\n",
       "      <td>Argon</td>\n",
       "      <td>Ar</td>\n",
       "      <td>39.948</td>\n",
       "      <td>150.8</td>\n",
       "      <td>4.874</td>\n",
       "      <td>0.0749</td>\n",
       "      <td>0.291</td>\n",
       "      <td>-0.004</td>\n",
       "      <td>87.3</td>\n",
       "    </tr>\n",
       "    <tr>\n",
       "      <th>3</th>\n",
       "      <td>Benzene</td>\n",
       "      <td>C6H6</td>\n",
       "      <td>78.114</td>\n",
       "      <td>562.1</td>\n",
       "      <td>4.894</td>\n",
       "      <td>0.2590</td>\n",
       "      <td>0.271</td>\n",
       "      <td>0.212</td>\n",
       "      <td>353.3</td>\n",
       "    </tr>\n",
       "    <tr>\n",
       "      <th>4</th>\n",
       "      <td>n-Butane</td>\n",
       "      <td>C4H10</td>\n",
       "      <td>58.124</td>\n",
       "      <td>425.2</td>\n",
       "      <td>3.800</td>\n",
       "      <td>0.2550</td>\n",
       "      <td>0.274</td>\n",
       "      <td>0.193</td>\n",
       "      <td>272.7</td>\n",
       "    </tr>\n",
       "  </tbody>\n",
       "</table>\n",
       "</div>"
      ],
      "text/plain": [
       "   Substance Symbol      MW     Tc      Pc      Vc     Zc      w  Tboil\n",
       "0  Acetylene   C2H2  26.038  308.3   6.140  0.1130  0.271  0.184  189.2\n",
       "1    Ammonia    NH3  17.031  405.6  11.280  0.0724  0.242  0.250  239.7\n",
       "2      Argon     Ar  39.948  150.8   4.874  0.0749  0.291 -0.004   87.3\n",
       "3    Benzene   C6H6  78.114  562.1   4.894  0.2590  0.271  0.212  353.3\n",
       "4   n-Butane  C4H10  58.124  425.2   3.800  0.2550  0.274  0.193  272.7"
      ]
     },
     "execution_count": 19,
     "metadata": {},
     "output_type": "execute_result"
    }
   ],
   "source": [
    "df = pd.read_csv(\"https://raw.githubusercontent.com/NowfallE/RachfordRiceEquation/main/sandler6.6-1.csv\")\n",
    "df.head() #we can see what it looks like"
   ]
  },
  {
   "attachments": {},
   "cell_type": "markdown",
   "metadata": {},
   "source": [
    "The values below can be edited (and should be), to match different compositions\n",
    "\n",
    "- T stands for system temperature, and is assumed to be in degrees farenheit\n",
    "- P stands for system pressure, and is assumed to be in psia\n",
    "- list_of_comp is the list of components in the system, and should match a Substance in figure 6.6-1\n",
    "- zvector are the values of $\\overrightarrow{z}$ in the same order as list_of_comp\n",
    "\n",
    "using different units is possible, however these are the ones mainly used in class"
   ]
  },
  {
   "cell_type": "code",
   "execution_count": 20,
   "metadata": {},
   "outputs": [],
   "source": [
    "T = 150\n",
    "P = 200\n",
    "list_of_comp = [\"Methane\",\"Propane\",\"n-Pentane\"]\n",
    "zvector = [.7,.23,.07]\n",
    "\n",
    "T+=459.67 #converting to rankine, an absolute unit"
   ]
  },
  {
   "attachments": {},
   "cell_type": "markdown",
   "metadata": {},
   "source": [
    "Next, we will define some functions: <br /><br />\n",
    "- ki is our function for Wilson's correlation, and will be used to find the k values of each component, following this equation: <br /><br />\n",
    "$k_i$ = ($\\frac{P_{ci}}{P}$)exp(5.37(1+ $\\omega_i$)($\\frac{T_{ci}}{T}$)) <br /><br />\n",
    "- kvector will return a list that will essentially be $\\overrightarrow{k}$<br /><br />\n",
    "- fbv is the Rachford Rice equation:<br /><br />\n",
    "f($\\beta_v$) = $\\sum_{i=1}^{Nc}$ $\\frac{(1-K_i)z_i}{1-(1-k_i)\\beta_v}$=0<br /><br />\n",
    "- window will give us the upper and lower bounds of Michelsen's window, following these equations: <br /><br />\n",
    "lower = $\\frac{1}{1-k_{max}}$, upper = $\\frac{1}{1-k_{min}}$ <br /><br />\n",
    "- bisection will be used to find the roots of the Rachford Rice equation following the bisection method"
   ]
  },
  {
   "cell_type": "code",
   "execution_count": 21,
   "metadata": {},
   "outputs": [],
   "source": [
    "#wilson's correlation\n",
    "def ki(temp,p,pc,tc,omega):\n",
    "    return (pc/p)*(np.exp((5.37*(1+omega)*(1-(tc/temp)))))\n",
    "\n",
    "def kvector(nc,temp,pressure):\n",
    "    kv=[]\n",
    "    for c in nc:\n",
    "        tc = df.loc[df['Substance'] == c][\"Tc\"].item() *1.8 #converting table data to rankine\n",
    "        pc = df.loc[df['Substance'] == c][\"Pc\"].item()*145 #converting table data to psia\n",
    "        w = df.loc[df['Substance'] == c][\"w\"].item()\n",
    "        kv.append(ki(temp,pressure,pc,tc,w))\n",
    "    return kv\n",
    "\n",
    "#rachford rice equation\n",
    "def fbv(zv,kv,x):\n",
    "    output = []\n",
    "    for i in range(len(zv)):\n",
    "        ki1 = 1-kv[i]\n",
    "        ki1zi = (1-kv[i])*zv[i]\n",
    "        output.append(ki1zi/(1-ki1*x))\n",
    "    return sum(output)\n",
    "\n",
    "#Michelsen\n",
    "def window(kv):\n",
    "    return [1/(1.00000001-max(kv)),1/(1.00000001-min(kv))] #we add 00000001 to avoid division by zero errors\n",
    "\n",
    "#bisection method\n",
    "#code from John T. Foster's Numerical Methods and Programming book\n",
    "def bisection(fbv, a, b, max_iterations=10000, tolerence=1e-6):\n",
    "\n",
    "    FA = fbv(zvector,kv,a)\n",
    "\n",
    "    for i in range(max_iterations):\n",
    "\n",
    "        p = a + (b - a) / 2\n",
    "        FP = fbv(zvector,kv,p)\n",
    "\n",
    "        if np.isclose(FP, 0.0) or (b - a) / 2 < tolerence:\n",
    "            return p\n",
    "\n",
    "        if np.sign(FA) * np.sign(FP) > 0:\n",
    "            a = p\n",
    "            FA = FP\n",
    "        else:\n",
    "            b = p\n",
    "\n",
    "    return\n",
    "##############\n",
    "\n"
   ]
  },
  {
   "attachments": {},
   "cell_type": "markdown",
   "metadata": {},
   "source": [
    "We these functions, we can find $\\overrightarrow{k}$, michelsen's window, and the root of the Rachford Rice equation, which will equal $\\beta_v$"
   ]
  },
  {
   "cell_type": "code",
   "execution_count": 22,
   "metadata": {},
   "outputs": [],
   "source": [
    "kv = kvector(list_of_comp,T,P)\n",
    "mw = window(kv)\n",
    "bv = bisection(fbv,mw[0]+.01,mw[1]-.01) \n",
    "#if we started the method above directly on the michelsen window, it would return one of the bounds\n",
    "# therefore we go .1 inward"
   ]
  },
  {
   "attachments": {},
   "cell_type": "markdown",
   "metadata": {},
   "source": [
    "Here is a graphical representation:"
   ]
  },
  {
   "cell_type": "code",
   "execution_count": 23,
   "metadata": {},
   "outputs": [
    {
     "data": {
      "text/plain": [
       "<matplotlib.legend.Legend at 0x25445b989d0>"
      ]
     },
     "execution_count": 23,
     "metadata": {},
     "output_type": "execute_result"
    },
    {
     "data": {
      "image/png": "[encoded data removed]",
      "text/plain": [
       "<Figure size 640x480 with 1 Axes>"
      ]
     },
     "metadata": {},
     "output_type": "display_data"
    }
   ],
   "source": [
    "x = np.linspace(-1+mw[0],1+mw[1],1000)\n",
    "plt.plot(x,fbv(zvector,kv,x),c=\"red\")\n",
    "plt.ylim([-1,1])\n",
    "plt.axhline(0,color=\"black\")\n",
    "plt.axvline(mw[0],label=\"lower window = {:.2f}\".format(mw[0]),color=\"cyan\")\n",
    "plt.axvline(mw[1],label=\"upper window = {:.2f}\".format(mw[1]),color=\"blue\")\n",
    "plt.axvline(bv,color=\"grey\",linestyle=\"--\",label=\"Bv estimate = {:.2f}\".format(bv))\n",
    "plt.legend()"
   ]
  },
  {
   "attachments": {},
   "cell_type": "markdown",
   "metadata": {},
   "source": [
    "Now we can solve for $\\beta_l$, $\\overrightarrow{x_l}$, and $\\overrightarrow{x_v}$ from these equations: <br /> <br />\n",
    "$\\beta_l$ = 1 -$\\beta_v$,   $x_{il}$ = $\\frac{z_i}{1-(1-k_i)\\beta_v}$,   $x_{iv}$ = $k_i x_{il}$"
   ]
  },
  {
   "cell_type": "code",
   "execution_count": 24,
   "metadata": {},
   "outputs": [],
   "source": [
    "bl=1-bv\n",
    "xil=[]\n",
    "for i in range(len(zvector)):\n",
    "    xil.append(zvector[i]/(1-(1-kv[i])*bv))\n",
    "xiv=[]\n",
    "for i in range(len(zvector)):\n",
    "    xiv.append(kv[i]*xil[i])"
   ]
  },
  {
   "attachments": {},
   "cell_type": "markdown",
   "metadata": {},
   "source": [
    "And finally, we can print them"
   ]
  },
  {
   "cell_type": "code",
   "execution_count": 25,
   "metadata": {},
   "outputs": [
    {
     "name": "stdout",
     "output_type": "stream",
     "text": [
      "The vapor phase fraction is 1.12\n",
      "The liquid phase fraction is -0.12\n",
      "The liquid phase composition is:\n",
      "0.02\n",
      "0.13\n",
      "0.86\n",
      "The vapor phase composition is:\n",
      "0.63\n",
      "0.22\n",
      "0.16\n"
     ]
    }
   ],
   "source": [
    "print(\"The vapor phase fraction is {:.2f}\".format(bv))\n",
    "print(\"The liquid phase fraction is {:.2f}\".format(bl))\n",
    "print(\"The liquid phase composition is:\")\n",
    "for i in range(len(xil)):\n",
    "    print(\"{:.2f}\".format(xil[i]))\n",
    "print(\"The vapor phase composition is:\")\n",
    "for i in range(len(xiv)):\n",
    "    print(\"{:.2f}\".format(xiv[i]))"
   ]
  },
  {
   "attachments": {},
   "cell_type": "markdown",
   "metadata": {},
   "source": [
    "Plotting a ternary diagram using the Rachford Rice equation requires finding the vapor and liquid compositions of different compositions <br /> <br />\n",
    "To do so, we will use randomly generated compositions and use a process similar to the one above to find the liquid and vapor compositions "
   ]
  },
  {
   "cell_type": "code",
   "execution_count": 26,
   "metadata": {},
   "outputs": [],
   "source": [
    "plot_points_values = [] #empty list to store the liquid and vapor compositions"
   ]
  },
  {
   "cell_type": "code",
   "execution_count": 27,
   "metadata": {},
   "outputs": [],
   "source": [
    "for i in range(50): # makig 50 random compositions\n",
    "    zvector = [rn.random() for i in range(3)]\n",
    "    s = sum(zvector)\n",
    "    zvector = [ i/s for i in zvector ]\n",
    "    kv = kvector(list_of_comp,T,P)\n",
    "    mw = window(kv)\n",
    "    bv = bisection(fbv,mw[0]+.01,mw[1]-.01)\n",
    "    bl=1-bv\n",
    "    xil=[]\n",
    "    for i in range(len(zvector)):\n",
    "        xil.append(zvector[i]/(1-(1-kv[i])*bv))\n",
    "    xiv=[]\n",
    "    for i in range(len(zvector)):\n",
    "        xiv.append(kv[i]*xil[i])\n",
    "    plot_points_values.append(xiv) #adding the resulting vapor composition to our point list\n",
    "    plot_points_values.append(xil) #adding the resulting liquid composition to our point list"
   ]
  },
  {
   "attachments": {},
   "cell_type": "markdown",
   "metadata": {},
   "source": [
    "Now we can formally label our points by putting them in a pandas dataframe"
   ]
  },
  {
   "cell_type": "code",
   "execution_count": 28,
   "metadata": {},
   "outputs": [
    {
     "data": {
      "text/html": [
       "<div>\n",
       "<style scoped>\n",
       "    .dataframe tbody tr th:only-of-type {\n",
       "        vertical-align: middle;\n",
       "    }\n",
       "\n",
       "    .dataframe tbody tr th {\n",
       "        vertical-align: top;\n",
       "    }\n",
       "\n",
       "    .dataframe thead th {\n",
       "        text-align: right;\n",
       "    }\n",
       "</style>\n",
       "<table border=\"1\" class=\"dataframe\">\n",
       "  <thead>\n",
       "    <tr style=\"text-align: right;\">\n",
       "      <th></th>\n",
       "      <th>C1</th>\n",
       "      <th>C3</th>\n",
       "      <th>nC5</th>\n",
       "    </tr>\n",
       "  </thead>\n",
       "  <tbody>\n",
       "    <tr>\n",
       "      <th>0</th>\n",
       "      <td>0.442832</td>\n",
       "      <td>0.421078</td>\n",
       "      <td>0.136091</td>\n",
       "    </tr>\n",
       "    <tr>\n",
       "      <th>1</th>\n",
       "      <td>0.012451</td>\n",
       "      <td>0.241373</td>\n",
       "      <td>0.746175</td>\n",
       "    </tr>\n",
       "    <tr>\n",
       "      <th>2</th>\n",
       "      <td>0.790054</td>\n",
       "      <td>0.035305</td>\n",
       "      <td>0.174642</td>\n",
       "    </tr>\n",
       "    <tr>\n",
       "      <th>3</th>\n",
       "      <td>0.022214</td>\n",
       "      <td>0.020238</td>\n",
       "      <td>0.957548</td>\n",
       "    </tr>\n",
       "    <tr>\n",
       "      <th>4</th>\n",
       "      <td>0.155893</td>\n",
       "      <td>0.739875</td>\n",
       "      <td>0.104233</td>\n",
       "    </tr>\n",
       "  </tbody>\n",
       "</table>\n",
       "</div>"
      ],
      "text/plain": [
       "         C1        C3       nC5\n",
       "0  0.442832  0.421078  0.136091\n",
       "1  0.012451  0.241373  0.746175\n",
       "2  0.790054  0.035305  0.174642\n",
       "3  0.022214  0.020238  0.957548\n",
       "4  0.155893  0.739875  0.104233"
      ]
     },
     "execution_count": 28,
     "metadata": {},
     "output_type": "execute_result"
    }
   ],
   "source": [
    "plot_points = pd.DataFrame(plot_points_values,columns=[\"C1\",\"C3\",\"nC5\"])\n",
    "plot_points.head()"
   ]
  },
  {
   "attachments": {},
   "cell_type": "markdown",
   "metadata": {},
   "source": [
    "And lastly use plotly express library to plot a ternary diagram where:\n",
    "- The top line represents the dew point line\n",
    "- The bottom line represents the bubble point line\n",
    "- The region between the two lines represents the two phase region"
   ]
  },
  {
   "cell_type": "code",
   "execution_count": 29,
   "metadata": {},
   "outputs": [
    {
     "data": {
      "application/vnd.plotly.v1+json": {
       "config": {
        "plotlyServerURL": "https://plot.ly"
       },
       "data": [
        {
         "a": [
          0.4428318684488646,
          0.012450938845828697,
          0.7900537482958644,
          0.0222136472232812,
          0.15589260711024447,
          0.004383174418872225,
          0.4267822804899456,
          0.011999678554022656,
          0.6682233065567554,
          0.018788186031955253,
          0.3720577204934845,
          0.010461008466281441,
          0.21276807802619183,
          0.00598232086847772,
          0.39155413050908955,
          0.011009181771124634,
          0.3390726314392491,
          0.009533578992704782,
          0.6235378223857138,
          0.017531780903167343,
          0.3909165497290528,
          0.010991255149607264,
          0.6579687645176666,
          0.018499862889657697,
          0.34224959109548847,
          0.009622904385057545,
          0.730004242796766,
          0.020525257624514404,
          0.3936555042853508,
          0.011068265315568045,
          0.5343221258657548,
          0.015023336365629976,
          0.5123576479289998,
          0.014405769313536322,
          0.8074942881608117,
          0.022704016392187956,
          0.6701953688022444,
          0.01884363377221107,
          0.5523998941437135,
          0.015531622248681584,
          0.5972910967657747,
          0.016793811486598937,
          0.24986774810269569,
          0.007025438485421114,
          0.5008377656153505,
          0.014081869069633815,
          0.7989795406628217,
          0.022464610405540028,
          0.2369551372149756,
          0.006662379410503723,
          0.5323042856138116,
          0.014966601502202914,
          0.659066468811864,
          0.018530726632788312,
          0.5406200239061651,
          0.015200412021077,
          0.5037211002153708,
          0.014162938715553072,
          0.5159605356524068,
          0.014507070366845017,
          0.6229231629433206,
          0.01751449875237035,
          0.5135593922526096,
          0.014439558311455552,
          0.3529288882109692,
          0.00992317020776592,
          0.7762919846714152,
          0.02182671283687637,
          0.3568435659631946,
          0.010033237745282617,
          0.4513463894995816,
          0.012690338465542924,
          0.47640155309958565,
          0.013394805176235194,
          0.5083618489488356,
          0.014293420920642837,
          0.11351163271510188,
          0.0031915643338327254,
          0.45360021224544383,
          0.012753708360930904,
          0.3117968029558406,
          0.0087666746739036,
          0.39059706775690606,
          0.010982272393891246,
          0.43177544562779613,
          0.01214006952000319,
          0.4780786188124061,
          0.013441958608764576,
          0.43257814800198563,
          0.012162638803933552,
          0.4024777416477845,
          0.011316316880302555,
          0.0457359294076527,
          0.001285940106583768,
          0.7336664226444044,
          0.020628225772414622,
          0.16175605010062385,
          0.004548034663359455,
          0.37068002466927336,
          0.010422272305499943
         ],
         "b": [
          0.13609074835853158,
          0.746175481686005,
          0.17464179655551956,
          0.9575480202666893,
          0.10423279880085028,
          0.5715007066299896,
          0.1343089274393642,
          0.7364058897139247,
          0.16111605078233096,
          0.8833873591695622,
          0.12823310075849695,
          0.7030925825646912,
          0.11054756586260207,
          0.6061241061694204,
          0.1303976610460747,
          0.7149607061124185,
          0.1245706922354642,
          0.6830118682121966,
          0.15615394975203895,
          0.8561805271761173,
          0.13032700653494567,
          0.7145733126671557,
          0.15997697534205008,
          0.8771418929965856,
          0.12492366060316117,
          0.6849471675985468,
          0.16797503690373808,
          0.920994671457501,
          0.1306310125678942,
          0.7162401552027938,
          0.14624880076427324,
          0.8018713297746439,
          0.14381000266630986,
          0.788499580648182,
          0.17657819237194042,
          0.9681651349381879,
          0.16133440622403677,
          0.8845845858646815,
          0.1482560937051578,
          0.8128771681223288,
          0.15324042506101468,
          0.8402058873423963,
          0.11466650645667265,
          0.6287079520141036,
          0.14253131018843973,
          0.781488604611153,
          0.17563288945618624,
          0.9629821091483394,
          0.11323307434378684,
          0.6208485500327219,
          0.1460248347884401,
          0.8006433409369436,
          0.16009892946776935,
          0.8778105584246163,
          0.1469483255783059,
          0.8057067724579849,
          0.14285131023582093,
          0.7832431411419182,
          0.14421032912761395,
          0.7906945409500262,
          0.15608576708085434,
          0.8558066866459749,
          0.1439447798034537,
          0.7892385536969864,
          0.12610934831529105,
          0.6914482054016227,
          0.1731137762552626,
          0.9491699982679679,
          0.12654396769504145,
          0.6938311912323785,
          0.13703621065425586,
          0.7513593813444112,
          0.1398179161771479,
          0.7666112664540755,
          0.14336633805696686,
          0.7860670004943028,
          0.09952731384861171,
          0.5457008815636096,
          0.1372864441654519,
          0.7527313931306846,
          0.1215424835310857,
          0.6664084244374403,
          0.130291305224957,
          0.7143775650318541,
          0.13486338686304922,
          0.7394459496190517,
          0.1400040768457605,
          0.7676319715956701,
          0.13495247442663633,
          0.7399344101240724,
          0.13161057752751507,
          0.7216110372385235,
          0.09200248921555694,
          0.50444282609036,
          0.16838160505745553,
          0.9232238544960061,
          0.1048833452688118,
          0.5750676046737234,
          0.12808080828715174,
          0.7022575742372787
         ],
         "c": [
          0.42107795280353255,
          0.2413732154258323,
          0.035304804543019694,
          0.02023766415646377,
          0.7398747441745568,
          0.4241161163265721,
          0.43890880697472906,
          0.2515943409358134,
          0.17066086972121158,
          0.09782740368550666,
          0.4997087707756389,
          0.2864465165548184,
          0.676684303476758,
          0.38789365501304995,
          0.47804821321575386,
          0.27403010198992384,
          0.5363566670838479,
          0.3074540770590184,
          0.2203084697846974,
          0.1262867442558515,
          0.47875597901358397,
          0.2744358123940266,
          0.18205411124104973,
          0.1043583163620237,
          0.5328264175574845,
          0.3054304430174816,
          0.10202032593066362,
          0.05848079659531656,
          0.47571344931048837,
          0.27269175248166294,
          0.3194290722599443,
          0.18310534132345685,
          0.34383275710795785,
          0.19709419027834868,
          0.01592779955576962,
          0.009130243385666054,
          0.1684702479876742,
          0.09657168034951824,
          0.2993435574197568,
          0.17159178363614339,
          0.24946839984373745,
          0.14300200097513854,
          0.6354661963116124,
          0.3642663266431418,
          0.3566306653627406,
          0.2044302957324925,
          0.02538770395890601,
          0.014552915193114966,
          0.6498115234898314,
          0.3724894542713838,
          0.3216707315954975,
          0.1843903207865452,
          0.18083449325840367,
          0.10365919850961074,
          0.3124317379514614,
          0.1790942809717978,
          0.3534274336296701,
          0.20259411709141786,
          0.33982885970942456,
          0.19479904852874008,
          0.22099149007814037,
          0.12667826987083983,
          0.3424967653599417,
          0.19632836385154576,
          0.5209610575656886,
          0.2986288993262566,
          0.050594656047166196,
          0.029002218549225554,
          0.5166120929790589,
          0.2961359557773036,
          0.41161745552130374,
          0.23595020376413087,
          0.38378119799859645,
          0.219993711767951,
          0.34827208872681137,
          0.19963893464230784,
          0.786961340489549,
          0.45110742062150566,
          0.40911337533904635,
          0.23451479760892524,
          0.5666604913659267,
          0.32482504473368456,
          0.4791116989565186,
          0.27463972063915215,
          0.43336109477561413,
          0.24841424299232817,
          0.3819183517080695,
          0.21892587813763414,
          0.4324693310181805,
          0.24790306000566537,
          0.465911690129799,
          0.26707312031505187,
          0.8622611179377904,
          0.4942712796706919,
          0.09795181352101014,
          0.056148615782287484,
          0.7333602193812755,
          0.4203818153833468,
          0.5012396996918428,
          0.2873240862129594
         ],
         "hovertemplate": "C1=%{a}<br>nC5=%{b}<br>C3=%{c}<extra></extra>",
         "legendgroup": "",
         "marker": {
          "color": "#636efa",
          "symbol": "circle"
         },
         "mode": "markers",
         "name": "",
         "showlegend": false,
         "subplot": "ternary",
         "type": "scatterternary"
        }
       ],
       "layout": {
        "legend": {
         "tracegroupgap": 0
        },
        "margin": {
         "t": 60
        },
        "template": {
         "data": {
          "bar": [
           {
            "error_x": {
             "color": "#2a3f5f"
            },
            "error_y": {
             "color": "#2a3f5f"
            },
            "marker": {
             "line": {
              "color": "#E5ECF6",
              "width": 0.5
             },
             "pattern": {
              "fillmode": "overlay",
              "size": 10,
              "solidity": 0.2
             }
            },
            "type": "bar"
           }
          ],
          "barpolar": [
           {
            "marker": {
             "line": {
              "color": "#E5ECF6",
              "width": 0.5
             },
             "pattern": {
              "fillmode": "overlay",
              "size": 10,
              "solidity": 0.2
             }
            },
            "type": "barpolar"
           }
          ],
          "carpet": [
           {
            "aaxis": {
             "endlinecolor": "#2a3f5f",
             "gridcolor": "white",
             "linecolor": "white",
             "minorgridcolor": "white",
             "startlinecolor": "#2a3f5f"
            },
            "baxis": {
             "endlinecolor": "#2a3f5f",
             "gridcolor": "white",
             "linecolor": "white",
             "minorgridcolor": "white",
             "startlinecolor": "#2a3f5f"
            },
            "type": "carpet"
           }
          ],
          "choropleth": [
           {
            "colorbar": {
             "outlinewidth": 0,
             "ticks": ""
            },
            "type": "choropleth"
           }
          ],
          "contour": [
           {
            "colorbar": {
             "outlinewidth": 0,
             "ticks": ""
            },
            "colorscale": [
             [
              0,
              "#0d0887"
             ],
             [
              0.1111111111111111,
              "#46039f"
             ],
             [
              0.2222222222222222,
              "#7201a8"
             ],
             [
              0.3333333333333333,
              "#9c179e"
             ],
             [
              0.4444444444444444,
              "#bd3786"
             ],
             [
              0.5555555555555556,
              "#d8576b"
             ],
             [
              0.6666666666666666,
              "#ed7953"
             ],
             [
              0.7777777777777778,
              "#fb9f3a"
             ],
             [
              0.8888888888888888,
              "#fdca26"
             ],
             [
              1,
              "#f0f921"
             ]
            ],
            "type": "contour"
           }
          ],
          "contourcarpet": [
           {
            "colorbar": {
             "outlinewidth": 0,
             "ticks": ""
            },
            "type": "contourcarpet"
           }
          ],
          "heatmap": [
           {
            "colorbar": {
             "outlinewidth": 0,
             "ticks": ""
            },
            "colorscale": [
             [
              0,
              "#0d0887"
             ],
             [
              0.1111111111111111,
              "#46039f"
             ],
             [
              0.2222222222222222,
              "#7201a8"
             ],
             [
              0.3333333333333333,
              "#9c179e"
             ],
             [
              0.4444444444444444,
              "#bd3786"
             ],
             [
              0.5555555555555556,
              "#d8576b"
             ],
             [
              0.6666666666666666,
              "#ed7953"
             ],
             [
              0.7777777777777778,
              "#fb9f3a"
             ],
             [
              0.8888888888888888,
              "#fdca26"
             ],
             [
              1,
              "#f0f921"
             ]
            ],
            "type": "heatmap"
           }
          ],
          "heatmapgl": [
           {
            "colorbar": {
             "outlinewidth": 0,
             "ticks": ""
            },
            "colorscale": [
             [
              0,
              "#0d0887"
             ],
             [
              0.1111111111111111,
              "#46039f"
             ],
             [
              0.2222222222222222,
              "#7201a8"
             ],
             [
              0.3333333333333333,
              "#9c179e"
             ],
             [
              0.4444444444444444,
              "#bd3786"
             ],
             [
              0.5555555555555556,
              "#d8576b"
             ],
             [
              0.6666666666666666,
              "#ed7953"
             ],
             [
              0.7777777777777778,
              "#fb9f3a"
             ],
             [
              0.8888888888888888,
              "#fdca26"
             ],
             [
              1,
              "#f0f921"
             ]
            ],
            "type": "heatmapgl"
           }
          ],
          "histogram": [
           {
            "marker": {
             "pattern": {
              "fillmode": "overlay",
              "size": 10,
              "solidity": 0.2
             }
            },
            "type": "histogram"
           }
          ],
          "histogram2d": [
           {
            "colorbar": {
             "outlinewidth": 0,
             "ticks": ""
            },
            "colorscale": [
             [
              0,
              "#0d0887"
             ],
             [
              0.1111111111111111,
              "#46039f"
             ],
             [
              0.2222222222222222,
              "#7201a8"
             ],
             [
              0.3333333333333333,
              "#9c179e"
             ],
             [
              0.4444444444444444,
              "#bd3786"
             ],
             [
              0.5555555555555556,
              "#d8576b"
             ],
             [
              0.6666666666666666,
              "#ed7953"
             ],
             [
              0.7777777777777778,
              "#fb9f3a"
             ],
             [
              0.8888888888888888,
              "#fdca26"
             ],
             [
              1,
              "#f0f921"
             ]
            ],
            "type": "histogram2d"
           }
          ],
          "histogram2dcontour": [
           {
            "colorbar": {
             "outlinewidth": 0,
             "ticks": ""
            },
            "colorscale": [
             [
              0,
              "#0d0887"
             ],
             [
              0.1111111111111111,
              "#46039f"
             ],
             [
              0.2222222222222222,
              "#7201a8"
             ],
             [
              0.3333333333333333,
              "#9c179e"
             ],
             [
              0.4444444444444444,
              "#bd3786"
             ],
             [
              0.5555555555555556,
              "#d8576b"
             ],
             [
              0.6666666666666666,
              "#ed7953"
             ],
             [
              0.7777777777777778,
              "#fb9f3a"
             ],
             [
              0.8888888888888888,
              "#fdca26"
             ],
             [
              1,
              "#f0f921"
             ]
            ],
            "type": "histogram2dcontour"
           }
          ],
          "mesh3d": [
           {
            "colorbar": {
             "outlinewidth": 0,
             "ticks": ""
            },
            "type": "mesh3d"
           }
          ],
          "parcoords": [
           {
            "line": {
             "colorbar": {
              "outlinewidth": 0,
              "ticks": ""
             }
            },
            "type": "parcoords"
           }
          ],
          "pie": [
           {
            "automargin": true,
            "type": "pie"
           }
          ],
          "scatter": [
           {
            "fillpattern": {
             "fillmode": "overlay",
             "size": 10,
             "solidity": 0.2
            },
            "type": "scatter"
           }
          ],
          "scatter3d": [
           {
            "line": {
             "colorbar": {
              "outlinewidth": 0,
              "ticks": ""
             }
            },
            "marker": {
             "colorbar": {
              "outlinewidth": 0,
              "ticks": ""
             }
            },
            "type": "scatter3d"
           }
          ],
          "scattercarpet": [
           {
            "marker": {
             "colorbar": {
              "outlinewidth": 0,
              "ticks": ""
             }
            },
            "type": "scattercarpet"
           }
          ],
          "scattergeo": [
           {
            "marker": {
             "colorbar": {
              "outlinewidth": 0,
              "ticks": ""
             }
            },
            "type": "scattergeo"
           }
          ],
          "scattergl": [
           {
            "marker": {
             "colorbar": {
              "outlinewidth": 0,
              "ticks": ""
             }
            },
            "type": "scattergl"
           }
          ],
          "scattermapbox": [
           {
            "marker": {
             "colorbar": {
              "outlinewidth": 0,
              "ticks": ""
             }
            },
            "type": "scattermapbox"
           }
          ],
          "scatterpolar": [
           {
            "marker": {
             "colorbar": {
              "outlinewidth": 0,
              "ticks": ""
             }
            },
            "type": "scatterpolar"
           }
          ],
          "scatterpolargl": [
           {
            "marker": {
             "colorbar": {
              "outlinewidth": 0,
              "ticks": ""
             }
            },
            "type": "scatterpolargl"
           }
          ],
          "scatterternary": [
           {
            "marker": {
             "colorbar": {
              "outlinewidth": 0,
              "ticks": ""
             }
            },
            "type": "scatterternary"
           }
          ],
          "surface": [
           {
            "colorbar": {
             "outlinewidth": 0,
             "ticks": ""
            },
            "colorscale": [
             [
              0,
              "#0d0887"
             ],
             [
              0.1111111111111111,
              "#46039f"
             ],
             [
              0.2222222222222222,
              "#7201a8"
             ],
             [
              0.3333333333333333,
              "#9c179e"
             ],
             [
              0.4444444444444444,
              "#bd3786"
             ],
             [
              0.5555555555555556,
              "#d8576b"
             ],
             [
              0.6666666666666666,
              "#ed7953"
             ],
             [
              0.7777777777777778,
              "#fb9f3a"
             ],
             [
              0.8888888888888888,
              "#fdca26"
             ],
             [
              1,
              "#f0f921"
             ]
            ],
            "type": "surface"
           }
          ],
          "table": [
           {
            "cells": {
             "fill": {
              "color": "#EBF0F8"
             },
             "line": {
              "color": "white"
             }
            },
            "header": {
             "fill": {
              "color": "#C8D4E3"
             },
             "line": {
              "color": "white"
             }
            },
            "type": "table"
           }
          ]
         },
         "layout": {
          "annotationdefaults": {
           "arrowcolor": "#2a3f5f",
           "arrowhead": 0,
           "arrowwidth": 1
          },
          "autotypenumbers": "strict",
          "coloraxis": {
           "colorbar": {
            "outlinewidth": 0,
            "ticks": ""
           }
          },
          "colorscale": {
           "diverging": [
            [
             0,
             "#8e0152"
            ],
            [
             0.1,
             "#c51b7d"
            ],
            [
             0.2,
             "#de77ae"
            ],
            [
             0.3,
             "#f1b6da"
            ],
            [
             0.4,
             "#fde0ef"
            ],
            [
             0.5,
             "#f7f7f7"
            ],
            [
             0.6,
             "#e6f5d0"
            ],
            [
             0.7,
             "#b8e186"
            ],
            [
             0.8,
             "#7fbc41"
            ],
            [
             0.9,
             "#4d9221"
            ],
            [
             1,
             "#276419"
            ]
           ],
           "sequential": [
            [
             0,
             "#0d0887"
            ],
            [
             0.1111111111111111,
             "#46039f"
            ],
            [
             0.2222222222222222,
             "#7201a8"
            ],
            [
             0.3333333333333333,
             "#9c179e"
            ],
            [
             0.4444444444444444,
             "#bd3786"
            ],
            [
             0.5555555555555556,
             "#d8576b"
            ],
            [
             0.6666666666666666,
             "#ed7953"
            ],
            [
             0.7777777777777778,
             "#fb9f3a"
            ],
            [
             0.8888888888888888,
             "#fdca26"
            ],
            [
             1,
             "#f0f921"
            ]
           ],
           "sequentialminus": [
            [
             0,
             "#0d0887"
            ],
            [
             0.1111111111111111,
             "#46039f"
            ],
            [
             0.2222222222222222,
             "#7201a8"
            ],
            [
             0.3333333333333333,
             "#9c179e"
            ],
            [
             0.4444444444444444,
             "#bd3786"
            ],
            [
             0.5555555555555556,
             "#d8576b"
            ],
            [
             0.6666666666666666,
             "#ed7953"
            ],
            [
             0.7777777777777778,
             "#fb9f3a"
            ],
            [
             0.8888888888888888,
             "#fdca26"
            ],
            [
             1,
             "#f0f921"
            ]
           ]
          },
          "colorway": [
           "#636efa",
           "#EF553B",
           "#00cc96",
           "#ab63fa",
           "#FFA15A",
           "#19d3f3",
           "#FF6692",
           "#B6E880",
           "#FF97FF",
           "#FECB52"
          ],
          "font": {
           "color": "#2a3f5f"
          },
          "geo": {
           "bgcolor": "white",
           "lakecolor": "white",
           "landcolor": "#E5ECF6",
           "showlakes": true,
           "showland": true,
           "subunitcolor": "white"
          },
          "hoverlabel": {
           "align": "left"
          },
          "hovermode": "closest",
          "mapbox": {
           "style": "light"
          },
          "paper_bgcolor": "white",
          "plot_bgcolor": "#E5ECF6",
          "polar": {
           "angularaxis": {
            "gridcolor": "white",
            "linecolor": "white",
            "ticks": ""
           },
           "bgcolor": "#E5ECF6",
           "radialaxis": {
            "gridcolor": "white",
            "linecolor": "white",
            "ticks": ""
           }
          },
          "scene": {
           "xaxis": {
            "backgroundcolor": "#E5ECF6",
            "gridcolor": "white",
            "gridwidth": 2,
            "linecolor": "white",
            "showbackground": true,
            "ticks": "",
            "zerolinecolor": "white"
           },
           "yaxis": {
            "backgroundcolor": "#E5ECF6",
            "gridcolor": "white",
            "gridwidth": 2,
            "linecolor": "white",
            "showbackground": true,
            "ticks": "",
            "zerolinecolor": "white"
           },
           "zaxis": {
            "backgroundcolor": "#E5ECF6",
            "gridcolor": "white",
            "gridwidth": 2,
            "linecolor": "white",
            "showbackground": true,
            "ticks": "",
            "zerolinecolor": "white"
           }
          },
          "shapedefaults": {
           "line": {
            "color": "#2a3f5f"
           }
          },
          "ternary": {
           "aaxis": {
            "gridcolor": "white",
            "linecolor": "white",
            "ticks": ""
           },
           "baxis": {
            "gridcolor": "white",
            "linecolor": "white",
            "ticks": ""
           },
           "bgcolor": "#E5ECF6",
           "caxis": {
            "gridcolor": "white",
            "linecolor": "white",
            "ticks": ""
           }
          },
          "title": {
           "x": 0.05
          },
          "xaxis": {
           "automargin": true,
           "gridcolor": "white",
           "linecolor": "white",
           "ticks": "",
           "title": {
            "standoff": 15
           },
           "zerolinecolor": "white",
           "zerolinewidth": 2
          },
          "yaxis": {
           "automargin": true,
           "gridcolor": "white",
           "linecolor": "white",
           "ticks": "",
           "title": {
            "standoff": 15
           },
           "zerolinecolor": "white",
           "zerolinewidth": 2
          }
         }
        },
        "ternary": {
         "aaxis": {
          "title": {
           "text": "C1"
          }
         },
         "baxis": {
          "title": {
           "text": "nC5"
          }
         },
         "caxis": {
          "title": {
           "text": "C3"
          }
         },
         "domain": {
          "x": [
           0,
           1
          ],
          "y": [
           0,
           1
          ]
         }
        }
       }
      }
     },
     "metadata": {},
     "output_type": "display_data"
    }
   ],
   "source": [
    "fig = px.scatter_ternary(plot_points,a=(\"C1\"),c=(\"C3\"),b=\"nC5\")\n",
    "fig.show()"
   ]
  },
  {
   "attachments": {},
   "cell_type": "markdown",
   "metadata": {},
   "source": [
    "Next, we can make an iterative mixing process by mixing a constant mixture to each resulting liquid composition <br> <br>"
   ]
  },
  {
   "cell_type": "code",
   "execution_count": 30,
   "metadata": {},
   "outputs": [],
   "source": [
    "mixing_z = [0.50, 0.49, 0.01] #the composition of constant mixture\n",
    "ratio_mix = .5 #the ratio of the constant mixture to mix\n",
    "\n",
    "result_z = [.04,.36,.60]#the composition of the resulting mixture\n",
    "ratio_result = 1 - ratio_mix #the ratio of the resulting mixture to mix"
   ]
  },
  {
   "cell_type": "code",
   "execution_count": 32,
   "metadata": {},
   "outputs": [
    {
     "name": "stdout",
     "output_type": "stream",
     "text": [
      "Injection #2: (0.0117102, 0.2581509, 0.7301391)\n",
      "Injection #3: (0.0117102, 0.2581509, 0.7301386)\n",
      "Injection #4: (0.0117102, 0.2581509, 0.7301382)\n",
      "Injection #5: (0.0117102, 0.2581507, 0.7301391)\n",
      "Injection #6: (0.0117102, 0.2581508, 0.7301386)\n",
      "Injection #7: (0.0117102, 0.2581509, 0.7301382)\n",
      "Injection #8: (0.0117102, 0.2581507, 0.7301391)\n",
      "Injection #9: (0.0117102, 0.2581508, 0.7301387)\n",
      "Injection #10: (0.0117102, 0.2581509, 0.7301382)\n"
     ]
    }
   ],
   "source": [
    "for i in range(2,11):\n",
    "    zvector = []\n",
    "    for j in range(len(mixing_z)):\n",
    "        zvector.append(mixing_z[j]*ratio_mix + result_z[j]*ratio_result)\n",
    "    kv = kvector(list_of_comp,T,P)\n",
    "    mw = window(kv)\n",
    "    bv = bisection(fbv,mw[0]+.01,mw[1]-.01)\n",
    "    xil=[]\n",
    "    for k in range(len(zvector)):\n",
    "        xil.append(zvector[k]/(1-(1-kv[k])*bv)) \n",
    "    print(\"Injection #{}: ({:.7f}, {:.7f}, {:.7f})\".format(i,xil[0],xil[1],xil[2]))\n",
    "    result_z = xil\n",
    "    "
   ]
  },
  {
   "attachments": {},
   "cell_type": "markdown",
   "metadata": {},
   "source": [
    "Code by Naoufal Ennadi"
   ]
  }
 ],
 "metadata": {
  "kernelspec": {
   "display_name": "base",
   "language": "python",
   "name": "python3"
  },
  "language_info": {
   "codemirror_mode": {
    "name": "ipython",
    "version": 3
   },
   "file_extension": ".py",
   "mimetype": "text/x-python",
   "name": "python",
   "nbconvert_exporter": "python",
   "pygments_lexer": "ipython3",
   "version": "3.10.4"
  },
  "orig_nbformat": 4,
  "vscode": {
   "interpreter": {
    "hash": "2043299c89c8cd0b4d1a6f5cf4529bd58e6a4e0fe3181a25e0d328c821cdc5c5"
   }
  }
 },
 "nbformat": 4,
 "nbformat_minor": 2
}
