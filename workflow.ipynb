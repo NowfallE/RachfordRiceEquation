{
 "cells": [
  {
   "attachments": {},
   "cell_type": "markdown",
   "metadata": {},
   "source": [
    "# Using the Rachford Rice equation to find $\\beta_v$, $\\beta_l$, $\\overrightarrow{x_v}$, and $\\overrightarrow{x_l}$ from P, T and $\\overrightarrow{z}$\n",
    "\n",
    "First, lets import some packages we will use "
   ]
  },
  {
   "cell_type": "code",
   "execution_count": 24,
   "metadata": {},
   "outputs": [],
   "source": [
    "import pandas as pd #to use our data table\n",
    "import numpy as np #for math operations and arrays\n",
    "import matplotlib.pyplot as plt #to plot the RR equation"
   ]
  },
  {
   "attachments": {},
   "cell_type": "markdown",
   "metadata": {},
   "source": [
    "Then, we can import a csv form of figure 6.6-1 from Sandler's Thermodynamics 5th Edition"
   ]
  },
  {
   "cell_type": "code",
   "execution_count": 25,
   "metadata": {},
   "outputs": [
    {
     "data": {
      "text/html": [
       "<div>\n",
       "<style scoped>\n",
       "    .dataframe tbody tr th:only-of-type {\n",
       "        vertical-align: middle;\n",
       "    }\n",
       "\n",
       "    .dataframe tbody tr th {\n",
       "        vertical-align: top;\n",
       "    }\n",
       "\n",
       "    .dataframe thead th {\n",
       "        text-align: right;\n",
       "    }\n",
       "</style>\n",
       "<table border=\"1\" class=\"dataframe\">\n",
       "  <thead>\n",
       "    <tr style=\"text-align: right;\">\n",
       "      <th></th>\n",
       "      <th>Substance</th>\n",
       "      <th>Symbol</th>\n",
       "      <th>MW</th>\n",
       "      <th>Tc</th>\n",
       "      <th>Pc</th>\n",
       "      <th>Vc</th>\n",
       "      <th>Zc</th>\n",
       "      <th>w</th>\n",
       "      <th>Tboil</th>\n",
       "    </tr>\n",
       "  </thead>\n",
       "  <tbody>\n",
       "    <tr>\n",
       "      <th>0</th>\n",
       "      <td>Acetylene</td>\n",
       "      <td>C2H2</td>\n",
       "      <td>26.038</td>\n",
       "      <td>308.3</td>\n",
       "      <td>6.140</td>\n",
       "      <td>0.1130</td>\n",
       "      <td>0.271</td>\n",
       "      <td>0.184</td>\n",
       "      <td>189.2</td>\n",
       "    </tr>\n",
       "    <tr>\n",
       "      <th>1</th>\n",
       "      <td>Ammonia</td>\n",
       "      <td>NH3</td>\n",
       "      <td>17.031</td>\n",
       "      <td>405.6</td>\n",
       "      <td>11.280</td>\n",
       "      <td>0.0724</td>\n",
       "      <td>0.242</td>\n",
       "      <td>0.250</td>\n",
       "      <td>239.7</td>\n",
       "    </tr>\n",
       "    <tr>\n",
       "      <th>2</th>\n",
       "      <td>Argon</td>\n",
       "      <td>Ar</td>\n",
       "      <td>39.948</td>\n",
       "      <td>150.8</td>\n",
       "      <td>4.874</td>\n",
       "      <td>0.0749</td>\n",
       "      <td>0.291</td>\n",
       "      <td>-0.004</td>\n",
       "      <td>87.3</td>\n",
       "    </tr>\n",
       "    <tr>\n",
       "      <th>3</th>\n",
       "      <td>Benzene</td>\n",
       "      <td>C6H6</td>\n",
       "      <td>78.114</td>\n",
       "      <td>562.1</td>\n",
       "      <td>4.894</td>\n",
       "      <td>0.2590</td>\n",
       "      <td>0.271</td>\n",
       "      <td>0.212</td>\n",
       "      <td>353.3</td>\n",
       "    </tr>\n",
       "    <tr>\n",
       "      <th>4</th>\n",
       "      <td>n-Butane</td>\n",
       "      <td>C4H10</td>\n",
       "      <td>58.124</td>\n",
       "      <td>425.2</td>\n",
       "      <td>3.800</td>\n",
       "      <td>0.2550</td>\n",
       "      <td>0.274</td>\n",
       "      <td>0.193</td>\n",
       "      <td>272.7</td>\n",
       "    </tr>\n",
       "  </tbody>\n",
       "</table>\n",
       "</div>"
      ],
      "text/plain": [
       "   Substance Symbol      MW     Tc      Pc      Vc     Zc      w  Tboil\n",
       "0  Acetylene   C2H2  26.038  308.3   6.140  0.1130  0.271  0.184  189.2\n",
       "1    Ammonia    NH3  17.031  405.6  11.280  0.0724  0.242  0.250  239.7\n",
       "2      Argon     Ar  39.948  150.8   4.874  0.0749  0.291 -0.004   87.3\n",
       "3    Benzene   C6H6  78.114  562.1   4.894  0.2590  0.271  0.212  353.3\n",
       "4   n-Butane  C4H10  58.124  425.2   3.800  0.2550  0.274  0.193  272.7"
      ]
     },
     "execution_count": 25,
     "metadata": {},
     "output_type": "execute_result"
    }
   ],
   "source": [
    "df = pd.read_csv(\"sandler6.6-1.csv\")\n",
    "df.head() #we can see what it looks like"
   ]
  },
  {
   "attachments": {},
   "cell_type": "markdown",
   "metadata": {},
   "source": [
    "The values below can be edited (and should be), to match different compositions\n",
    "\n",
    "- T stands for system temperature, and is assumed to be in degrees farenheit\n",
    "- P stands for system pressure, and is assumed to be in psia\n",
    "- list_of_comp is the list of components in the system, and should match a Substance in figure 6.6-1\n",
    "- zvector are the values of $\\overrightarrow{z}$ in the same order as list_of_comp\n",
    "\n",
    "using different units is possible, however these are the ones mainly used in class"
   ]
  },
  {
   "cell_type": "code",
   "execution_count": 26,
   "metadata": {},
   "outputs": [],
   "source": [
    "T = 150\n",
    "P = 200\n",
    "list_of_comp = [\"Propane\",\"n-Butane\",\"n-Octane\"]\n",
    "zvector = [.7,.23,.07]\n",
    "\n",
    "T+=459.67 #converting to rankine, an absolute unit"
   ]
  },
  {
   "attachments": {},
   "cell_type": "markdown",
   "metadata": {},
   "source": [
    "Next, we will define some functions: <br /><br />\n",
    "- ki is our function for Wilson's correlation, and will be used to find the k values of each component, following this equation: <br /><br />\n",
    "$k_i$ = ($\\frac{P_{ci}}{P}$)exp(5.37(1+ $\\omega_i$)($\\frac{T_{ci}}{T}$)) <br /><br />\n",
    "- kvector will return a list that will essentially be $\\overrightarrow{k}$<br /><br />\n",
    "- fbv is the Rachford Rice equation:<br /><br />\n",
    "f($\\beta_v$) = $\\sum_{i=1}^{Nc}$ $\\frac{(1-K_i)z_i}{1-(1-k_i)\\beta_v}$=0<br /><br />\n",
    "- window will give us the upper and lower bounds of Michelsen's window, following these equations: <br /><br />\n",
    "lower = $\\frac{1}{1-k_{max}}$, upper = $\\frac{1}{1-k_{min}}$ <br /><br />\n",
    "- bisection will be used to find the roots of the Rachford Rice equation following the bisection method"
   ]
  },
  {
   "cell_type": "code",
   "execution_count": 21,
   "metadata": {},
   "outputs": [],
   "source": [
    "#wilson's correlation\n",
    "def ki(temp,p,pc,tc,omega):\n",
    "    return (pc/p)*(np.exp((5.37*(1+omega)*(1-(tc/temp)))))\n",
    "\n",
    "def kvector(nc,temp,pressure):\n",
    "    kv=[]\n",
    "    for c in nc:\n",
    "        tc = df.loc[df['Substance'] == c][\"Tc\"].item() *1.8 #converting table data to rankine\n",
    "        pc = df.loc[df['Substance'] == c][\"Pc\"].item()*145 #converting table data to psia\n",
    "        w = df.loc[df['Substance'] == c][\"w\"].item()\n",
    "        kv.append(ki(temp,pressure,pc,tc,w))\n",
    "    return kv\n",
    "\n",
    "#rachford rice equation\n",
    "def fbv(zv,kv,x):\n",
    "    output = []\n",
    "    for i in range(len(zv)):\n",
    "        ki1 = 1-kv[i]\n",
    "        ki1zi = (1-kv[i])*zv[i]\n",
    "        output.append(ki1zi/(1-ki1*x))\n",
    "    return sum(output)\n",
    "\n",
    "#Michelsen\n",
    "def window(kv):\n",
    "    return [1/(1.00000001-max(kv)),1/(1.00000001-min(kv))] #we add 00000001 to avoid division by zero errors\n",
    "\n",
    "#bisection method\n",
    "#code from John T. Foster's Numerical Methods and Programming book\n",
    "def bisection(fbv, a, b, max_iterations=10000, tolerence=1e-6):\n",
    "\n",
    "    FA = fbv(zvector,kv,a)\n",
    "\n",
    "    for i in range(max_iterations):\n",
    "\n",
    "        p = a + (b - a) / 2\n",
    "        FP = fbv(zvector,kv,p)\n",
    "\n",
    "        if np.isclose(FP, 0.0) or (b - a) / 2 < tolerence:\n",
    "            return p\n",
    "\n",
    "        if np.sign(FA) * np.sign(FP) > 0:\n",
    "            a = p\n",
    "            FA = FP\n",
    "        else:\n",
    "            b = p\n",
    "\n",
    "    return\n",
    "##############\n",
    "\n"
   ]
  },
  {
   "attachments": {},
   "cell_type": "markdown",
   "metadata": {},
   "source": [
    "We these functions, we can find $\\overrightarrow{k}$, michelsen's window, and the root of the Rachford Rice equation, which will equal $\\beta_v$"
   ]
  },
  {
   "cell_type": "code",
   "execution_count": 27,
   "metadata": {},
   "outputs": [],
   "source": [
    "kv = kvector(list_of_comp,T,P)\n",
    "mw = window(kv)\n",
    "bv = bisection(fbv,mw[0]+.01,mw[1]-.01) \n",
    "#if we started the method above directly on the michelsen window, it would return one of the bounds\n",
    "# therefore we go .1 inward"
   ]
  },
  {
   "attachments": {},
   "cell_type": "markdown",
   "metadata": {},
   "source": [
    "Here is a graphical representation:"
   ]
  },
  {
   "cell_type": "code",
   "execution_count": 23,
   "metadata": {},
   "outputs": [
    {
     "data": {
      "text/plain": [
       "<matplotlib.legend.Legend at 0x20b7cad3fd0>"
      ]
     },
     "execution_count": 23,
     "metadata": {},
     "output_type": "execute_result"
    },
    {
     "data": {
      "image/png": "[encoded data removed]",
      "text/plain": [
       "<Figure size 640x480 with 1 Axes>"
      ]
     },
     "metadata": {},
     "output_type": "display_data"
    }
   ],
   "source": [
    "x = np.linspace(-1+mw[0],1+mw[1],1000)\n",
    "plt.plot(x,fbv(zvector,kv,x),c=\"red\")\n",
    "plt.ylim([-1,1])\n",
    "plt.axhline(0,color=\"black\")\n",
    "plt.axvline(mw[0],label=\"lower window = {:.2f}\".format(mw[0]),color=\"cyan\")\n",
    "plt.axvline(mw[1],label=\"upper window = {:.2f}\".format(mw[1]),color=\"blue\")\n",
    "plt.axvline(bv,color=\"grey\",linestyle=\"--\",label=\"Bv estimate = {:.2f}\".format(bv))\n",
    "plt.legend()"
   ]
  },
  {
   "attachments": {},
   "cell_type": "markdown",
   "metadata": {},
   "source": [
    "Now we can solve for $\\beta_l$, $\\overrightarrow{x_l}$, and $\\overrightarrow{x_v}$ from these equations: <br /> <br />\n",
    "$\\beta_l$ = 1 -$\\beta_v$,   $x_{il}$ = $\\frac{z_i}{1-(1-k_i)\\beta_v}$,   $x_{iv}$ = $k_i x_{il}$"
   ]
  },
  {
   "cell_type": "code",
   "execution_count": 29,
   "metadata": {},
   "outputs": [],
   "source": [
    "bl=1-bv\n",
    "xil=[]\n",
    "for i in range(len(zvector)):\n",
    "    xil.append(zvector[i]/(1-(1-kv[i])*bv))\n",
    "xiv=[]\n",
    "for i in range(len(zvector)):\n",
    "    xiv.append(kv[i]*xil[i])"
   ]
  },
  {
   "attachments": {},
   "cell_type": "markdown",
   "metadata": {},
   "source": [
    "And finally, we can print them"
   ]
  },
  {
   "cell_type": "code",
   "execution_count": 34,
   "metadata": {},
   "outputs": [
    {
     "name": "stdout",
     "output_type": "stream",
     "text": [
      "The vapor phase fraction is 0.66\n",
      "The liquid phase fraction is 0.34\n",
      "The liquid phase composition is:\n",
      "0.47\n",
      "0.33\n",
      "0.20\n",
      "The vapor phase composition is:\n",
      "0.82\n",
      "0.18\n",
      "0.00\n"
     ]
    }
   ],
   "source": [
    "print(\"The vapor phase fraction is {:.2f}\".format(bv))\n",
    "print(\"The liquid phase fraction is {:.2f}\".format(bl))\n",
    "print(\"The liquid phase composition is:\")\n",
    "for i in range(len(xil)):\n",
    "    print(\"{:.2f}\".format(xil[i]))\n",
    "print(\"The vapor phase composition is:\")\n",
    "for i in range(len(xiv)):\n",
    "    print(\"{:.2f}\".format(xiv[i]))"
   ]
  },
  {
   "attachments": {},
   "cell_type": "markdown",
   "metadata": {},
   "source": [
    "Code by Naoufal Ennadi"
   ]
  }
 ],
 "metadata": {
  "kernelspec": {
   "display_name": "base",
   "language": "python",
   "name": "python3"
  },
  "language_info": {
   "codemirror_mode": {
    "name": "ipython",
    "version": 3
   },
   "file_extension": ".py",
   "mimetype": "text/x-python",
   "name": "python",
   "nbconvert_exporter": "python",
   "pygments_lexer": "ipython3",
   "version": "3.9.13"
  },
  "orig_nbformat": 4,
  "vscode": {
   "interpreter": {
    "hash": "2043299c89c8cd0b4d1a6f5cf4529bd58e6a4e0fe3181a25e0d328c821cdc5c5"
   }
  }
 },
 "nbformat": 4,
 "nbformat_minor": 2
}
